{
 "cells": [
  {
   "cell_type": "code",
   "execution_count": 9,
   "metadata": {},
   "outputs": [],
   "source": [
    "import sqlite3,os\n",
    "from tools import get_soup\n",
    "import numpy as np\n",
    "from datetime import datetime"
   ]
  },
  {
   "cell_type": "code",
   "execution_count": 10,
   "metadata": {},
   "outputs": [],
   "source": [
    "db_path='../db.sqlite3'"
   ]
  },
  {
   "cell_type": "code",
   "execution_count": 11,
   "metadata": {},
   "outputs": [
    {
     "data": {
      "text/plain": [
       "True"
      ]
     },
     "execution_count": 11,
     "metadata": {},
     "output_type": "execute_result"
    }
   ],
   "source": [
    "os.path.exists(db_path)"
   ]
  },
  {
   "cell_type": "code",
   "execution_count": 12,
   "metadata": {},
   "outputs": [
    {
     "data": {
      "text/plain": [
       "<!DOCTYPE HTML PUBLIC \"-//W3C//DTD HTML 4.01 Transitional//EN\" \"http://www.w3.org/TR/html4/loose.dtd\">\n",
       "<html>\n",
       "<head>\n",
       "<meta content=\"text/html; charset=utf-8\" http-equiv=\"Content-Type\"/>\n",
       "<title>縣市別代碼表</title>\n",
       "<style type=\"text/css\">\n",
       "<!--\n",
       "body {\n",
       "\tbackground-image: url(images/bg.gif);\n",
       "}\n",
       "-->\n",
       "</style>\n",
       "</head>\n",
       "<body>\n",
       "<p><strong>縣市別代一覽表：</strong></p>\n",
       "<table border=\"0\" cellpadding=\"2\" cellspacing=\"2\" width=\"500\">\n",
       "<tr>\n",
       "<td><div align=\"right\">01</div></td>\n",
       "<td>基隆市</td>\n",
       "<td><div align=\"right\">12</div></td>\n",
       "<td>嘉義市</td>\n",
       "</tr>\n",
       "<tr>\n",
       "<td><div align=\"right\">02</div></td>\n",
       "<td>台北市</td>\n",
       "<td><div align=\"right\">13</div></td>\n",
       "<td>嘉義縣</td>\n",
       "</tr>\n",
       "<tr>\n",
       "<td><div align=\"right\">03</div></td>\n",
       "<td>新北市</td>\n",
       "<td><div align=\"right\">14</div></td>\n",
       "<td>台南市</td>\n",
       "</tr>\n",
       "<tr>\n",
       "<td><div align=\"right\">04</div></td>\n",
       "<td>桃園縣</td>\n",
       "<td><div align=\"right\">15</div></td>\n",
       "<td>高雄市</td>\n",
       "</tr>\n",
       "<tr>\n",
       "<td><div align=\"right\">05</div></td>\n",
       "<td>新竹市</td>\n",
       "<td><div align=\"right\">16</div></td>\n",
       "<td>屏東縣</td>\n",
       "</tr>\n",
       "<tr>\n",
       "<td><div align=\"right\">06</div></td>\n",
       "<td>新竹縣</td>\n",
       "<td><div align=\"right\">17</div></td>\n",
       "<td>台東縣</td>\n",
       "</tr>\n",
       "<tr>\n",
       "<td><div align=\"right\">07</div></td>\n",
       "<td>苗栗縣</td>\n",
       "<td><div align=\"right\">18</div></td>\n",
       "<td>花蓮縣</td>\n",
       "</tr>\n",
       "<tr>\n",
       "<td><div align=\"right\">08</div></td>\n",
       "<td>台中市</td>\n",
       "<td><div align=\"right\">19</div></td>\n",
       "<td>宜蘭縣</td>\n",
       "</tr>\n",
       "<tr>\n",
       "<td><div align=\"right\">09</div></td>\n",
       "<td>彰化縣</td>\n",
       "<td><div align=\"right\">20</div></td>\n",
       "<td>澎湖縣</td>\n",
       "</tr>\n",
       "<tr>\n",
       "<td><div align=\"right\">10</div></td>\n",
       "<td>南投縣</td>\n",
       "<td><div align=\"right\">21</div></td>\n",
       "<td>金門縣</td>\n",
       "</tr>\n",
       "<tr>\n",
       "<td><div align=\"right\">11</div></td>\n",
       "<td>雲林縣</td>\n",
       "<td><div align=\"right\">22</div></td>\n",
       "<td>連江縣</td>\n",
       "</tr>\n",
       "</table>\n",
       "<p><strong></strong></p>\n",
       "</body>\n",
       "</html>"
      ]
     },
     "execution_count": 12,
     "metadata": {},
     "output_type": "execute_result"
    }
   ],
   "source": [
    "soup=get_soup('http://www.isha.org.tw/tools/2012web_s_tools_02a_01%E7%B8%A3%E5%B8%82%E5%88%A5%E4%BB%A3%E7%A2%BC%E8%A1%A8.asp')\n",
    "soup"
   ]
  },
  {
   "cell_type": "code",
   "execution_count": 13,
   "metadata": {},
   "outputs": [
    {
     "data": {
      "text/plain": [
       "[['01', '基隆市', '12', '嘉義市'],\n",
       " ['02', '台北市', '13', '嘉義縣'],\n",
       " ['03', '新北市', '14', '台南市'],\n",
       " ['04', '桃園縣', '15', '高雄市'],\n",
       " ['05', '新竹市', '16', '屏東縣'],\n",
       " ['06', '新竹縣', '17', '台東縣'],\n",
       " ['07', '苗栗縣', '18', '花蓮縣'],\n",
       " ['08', '台中市', '19', '宜蘭縣'],\n",
       " ['09', '彰化縣', '20', '澎湖縣'],\n",
       " ['10', '南投縣', '21', '金門縣'],\n",
       " ['11', '雲林縣', '22', '連江縣']]"
      ]
     },
     "execution_count": 13,
     "metadata": {},
     "output_type": "execute_result"
    }
   ],
   "source": [
    "cities=[[td.text.strip() for td in tr.find_all('td')] for tr in soup.find('table').find_all('tr')]\n",
    "cities"
   ]
  },
  {
   "cell_type": "code",
   "execution_count": 14,
   "metadata": {},
   "outputs": [
    {
     "data": {
      "text/plain": [
       "[(1, '基隆市'),\n",
       " (2, '台北市'),\n",
       " (3, '新北市'),\n",
       " (4, '桃園縣'),\n",
       " (5, '新竹市'),\n",
       " (6, '新竹縣'),\n",
       " (7, '苗栗縣'),\n",
       " (8, '台中市'),\n",
       " (9, '彰化縣'),\n",
       " (10, '南投縣'),\n",
       " (11, '雲林縣'),\n",
       " (12, '嘉義市'),\n",
       " (13, '嘉義縣'),\n",
       " (14, '台南市'),\n",
       " (15, '高雄市'),\n",
       " (16, '屏東縣'),\n",
       " (17, '台東縣'),\n",
       " (18, '花蓮縣'),\n",
       " (19, '宜蘭縣'),\n",
       " (20, '澎湖縣'),\n",
       " (21, '金門縣'),\n",
       " (22, '連江縣')]"
      ]
     },
     "execution_count": 14,
     "metadata": {},
     "output_type": "execute_result"
    }
   ],
   "source": [
    "city_dict={}\n",
    "for city in cities:   \n",
    "    for i in range(len(city)):        \n",
    "        if i%2==0:\n",
    "            city_dict[int(city[i])]=city[i+1]\n",
    "\n",
    "cities=sorted(city_dict.items(),key=lambda x:x[0])\n",
    "cities\n",
    "\n"
   ]
  },
  {
   "cell_type": "code",
   "execution_count": 15,
   "metadata": {},
   "outputs": [
    {
     "data": {
      "text/plain": [
       "(<sqlite3.Connection at 0x14b84a3f5d0>, <sqlite3.Cursor at 0x14b84b13340>)"
      ]
     },
     "execution_count": 15,
     "metadata": {},
     "output_type": "execute_result"
    }
   ],
   "source": [
    "conn=sqlite3.connect(db_path)\n",
    "cursor=conn.cursor()\n",
    "conn,cursor"
   ]
  },
  {
   "cell_type": "code",
   "execution_count": 16,
   "metadata": {},
   "outputs": [],
   "source": [
    "cursor.execute('delete from user_city;')\n",
    "conn.commit()"
   ]
  },
  {
   "cell_type": "code",
   "execution_count": 17,
   "metadata": {},
   "outputs": [
    {
     "name": "stdout",
     "output_type": "stream",
     "text": [
      "insert into user_city(id,name,createdon) values(1,\"基隆市\",    \"2022-01-26\");\n",
      "insert into user_city(id,name,createdon) values(2,\"台北市\",    \"2022-01-26\");\n",
      "insert into user_city(id,name,createdon) values(3,\"新北市\",    \"2022-01-26\");\n",
      "insert into user_city(id,name,createdon) values(4,\"桃園縣\",    \"2022-01-26\");\n",
      "insert into user_city(id,name,createdon) values(5,\"新竹市\",    \"2022-01-26\");\n",
      "insert into user_city(id,name,createdon) values(6,\"新竹縣\",    \"2022-01-26\");\n",
      "insert into user_city(id,name,createdon) values(7,\"苗栗縣\",    \"2022-01-26\");\n",
      "insert into user_city(id,name,createdon) values(8,\"台中市\",    \"2022-01-26\");\n",
      "insert into user_city(id,name,createdon) values(9,\"彰化縣\",    \"2022-01-26\");\n",
      "insert into user_city(id,name,createdon) values(10,\"南投縣\",    \"2022-01-26\");\n",
      "insert into user_city(id,name,createdon) values(11,\"雲林縣\",    \"2022-01-26\");\n",
      "insert into user_city(id,name,createdon) values(12,\"嘉義市\",    \"2022-01-26\");\n",
      "insert into user_city(id,name,createdon) values(13,\"嘉義縣\",    \"2022-01-26\");\n",
      "insert into user_city(id,name,createdon) values(14,\"台南市\",    \"2022-01-26\");\n",
      "insert into user_city(id,name,createdon) values(15,\"高雄市\",    \"2022-01-26\");\n",
      "insert into user_city(id,name,createdon) values(16,\"屏東縣\",    \"2022-01-26\");\n",
      "insert into user_city(id,name,createdon) values(17,\"台東縣\",    \"2022-01-26\");\n",
      "insert into user_city(id,name,createdon) values(18,\"花蓮縣\",    \"2022-01-26\");\n",
      "insert into user_city(id,name,createdon) values(19,\"宜蘭縣\",    \"2022-01-26\");\n",
      "insert into user_city(id,name,createdon) values(20,\"澎湖縣\",    \"2022-01-26\");\n",
      "insert into user_city(id,name,createdon) values(21,\"金門縣\",    \"2022-01-26\");\n",
      "insert into user_city(id,name,createdon) values(22,\"連江縣\",    \"2022-01-26\");\n",
      "write done!\n"
     ]
    }
   ],
   "source": [
    "try:\n",
    "    for city in cities:\n",
    "        sqlstr=f'insert into user_city(id,name,createdon) values({city[0]},\"{city[1]}\",\\\n",
    "    \"{datetime.today().strftime(\"%Y-%m-%d\")}\");'\n",
    "        print(sqlstr)\n",
    "        cursor.execute(sqlstr)\n",
    "    conn.commit()\n",
    "    print('write done!')\n",
    "except Exception as e:\n",
    "    print(e)\n",
    "finally:\n",
    "    if conn:\n",
    "        conn.close()"
   ]
  },
  {
   "cell_type": "markdown",
   "metadata": {},
   "source": [
    "## 各個分類"
   ]
  },
  {
   "cell_type": "code",
   "execution_count": 10,
   "metadata": {},
   "outputs": [],
   "source": [
    "path=r'G:\\我的雲端硬碟\\教學文件\\Python\\爬蟲專案\\Task出任務'"
   ]
  },
  {
   "cell_type": "code",
   "execution_count": 11,
   "metadata": {},
   "outputs": [
    {
     "data": {
      "text/plain": [
       "True"
      ]
     },
     "execution_count": 11,
     "metadata": {},
     "output_type": "execute_result"
    }
   ],
   "source": [
    "os.path.exists(path)"
   ]
  },
  {
   "cell_type": "markdown",
   "metadata": {},
   "source": [
    "from os import listdir\n",
    "from os.path import isfile, join\n",
    "categorys = [f.replace('.csv','') for f in listdir(path) if isfile(join(path, f)) and '.csv' in f]"
   ]
  },
  {
   "cell_type": "code",
   "execution_count": 18,
   "metadata": {},
   "outputs": [
    {
     "data": {
      "text/plain": [
       "['程式開發',\n",
       " '平面設計',\n",
       " '網頁設計',\n",
       " '翻譯寫作',\n",
       " '商攝娛樂',\n",
       " '影像製作',\n",
       " '空間設計',\n",
       " '生活服務',\n",
       " '活動企劃',\n",
       " '專業顧問',\n",
       " '資訊工程']"
      ]
     },
     "execution_count": 18,
     "metadata": {},
     "output_type": "execute_result"
    }
   ],
   "source": [
    "categorys=['程式開發',\n",
    "    '平面設計',\n",
    "    '網頁設計',\n",
    "    '翻譯寫作',\n",
    "    '商攝娛樂',\n",
    "    '影像製作',\n",
    "    '空間設計',\n",
    "    '生活服務',\n",
    "    '活動企劃',\n",
    "    '專業顧問',\n",
    "    '資訊工程']\n",
    "categorys"
   ]
  },
  {
   "cell_type": "code",
   "execution_count": 19,
   "metadata": {},
   "outputs": [
    {
     "name": "stdout",
     "output_type": "stream",
     "text": [
      "insert into case_category(id,name,createdon) values            (1,\"程式開發\",    \"2022-01-26\");\n",
      "insert into case_category(id,name,createdon) values            (2,\"平面設計\",    \"2022-01-26\");\n",
      "insert into case_category(id,name,createdon) values            (3,\"網頁設計\",    \"2022-01-26\");\n",
      "insert into case_category(id,name,createdon) values            (4,\"翻譯寫作\",    \"2022-01-26\");\n",
      "insert into case_category(id,name,createdon) values            (5,\"商攝娛樂\",    \"2022-01-26\");\n",
      "insert into case_category(id,name,createdon) values            (6,\"影像製作\",    \"2022-01-26\");\n",
      "insert into case_category(id,name,createdon) values            (7,\"空間設計\",    \"2022-01-26\");\n",
      "insert into case_category(id,name,createdon) values            (8,\"生活服務\",    \"2022-01-26\");\n",
      "insert into case_category(id,name,createdon) values            (9,\"活動企劃\",    \"2022-01-26\");\n",
      "insert into case_category(id,name,createdon) values            (10,\"專業顧問\",    \"2022-01-26\");\n",
      "insert into case_category(id,name,createdon) values            (11,\"資訊工程\",    \"2022-01-26\");\n",
      "write done!\n"
     ]
    }
   ],
   "source": [
    "try:\n",
    "    conn=sqlite3.connect(db_path)\n",
    "    cursor=conn.cursor()\n",
    "    conn,cursor\n",
    "\n",
    "    for i,cat in enumerate(categorys):\n",
    "        sqlstr=f'insert into case_category(id,name,createdon) values\\\n",
    "            ({i+1},\"{cat}\",\\\n",
    "    \"{datetime.today().strftime(\"%Y-%m-%d\")}\");'\n",
    "        print(sqlstr)\n",
    "        cursor.execute(sqlstr)\n",
    "    conn.commit()\n",
    "    print('write done!')\n",
    "except Exception as e:\n",
    "    print(e)\n",
    "finally:\n",
    "    if conn:\n",
    "        conn.close()"
   ]
  },
  {
   "cell_type": "markdown",
   "metadata": {},
   "source": [
    "### 身分"
   ]
  },
  {
   "cell_type": "code",
   "execution_count": 20,
   "metadata": {},
   "outputs": [
    {
     "data": {
      "text/plain": [
       "['公司行號', '工作室', '學生身分', '上班族兼職']"
      ]
     },
     "execution_count": 20,
     "metadata": {},
     "output_type": "execute_result"
    }
   ],
   "source": [
    "respondents=['公司行號','工作室','學生身分','上班族兼職']\n",
    "respondents"
   ]
  },
  {
   "cell_type": "markdown",
   "metadata": {},
   "source": [
    "#"
   ]
  },
  {
   "cell_type": "code",
   "execution_count": 21,
   "metadata": {},
   "outputs": [
    {
     "name": "stdout",
     "output_type": "stream",
     "text": [
      "insert into user_respondent(id,name,createdon) values            (1,\"公司行號\",    \"2022-01-26\");\n",
      "insert into user_respondent(id,name,createdon) values            (2,\"工作室\",    \"2022-01-26\");\n",
      "insert into user_respondent(id,name,createdon) values            (3,\"學生身分\",    \"2022-01-26\");\n",
      "insert into user_respondent(id,name,createdon) values            (4,\"上班族兼職\",    \"2022-01-26\");\n",
      "write done!\n"
     ]
    }
   ],
   "source": [
    "try:\n",
    "    conn=sqlite3.connect(db_path)\n",
    "    cursor=conn.cursor()\n",
    "    conn,cursor\n",
    "\n",
    "    for i,respondent in enumerate(respondents):\n",
    "        sqlstr=f'insert into user_respondent(id,name,createdon) values\\\n",
    "            ({i+1},\"{respondent}\",\\\n",
    "    \"{datetime.today().strftime(\"%Y-%m-%d\")}\");'\n",
    "        print(sqlstr)\n",
    "        cursor.execute(sqlstr)\n",
    "    conn.commit()\n",
    "    print('write done!')\n",
    "except Exception as e:\n",
    "    print(e)\n",
    "finally:\n",
    "    if conn:\n",
    "        conn.close()"
   ]
  },
  {
   "cell_type": "markdown",
   "metadata": {},
   "source": [
    "### 專案狀態"
   ]
  },
  {
   "cell_type": "code",
   "execution_count": 28,
   "metadata": {},
   "outputs": [
    {
     "data": {
      "text/plain": [
       "['新進案', '發案中', '製作中', '已結案']"
      ]
     },
     "execution_count": 28,
     "metadata": {},
     "output_type": "execute_result"
    }
   ],
   "source": [
    "states =['新進案', '發案中', '製作中', '已結案']\n",
    "states\n"
   ]
  },
  {
   "cell_type": "code",
   "execution_count": 29,
   "metadata": {},
   "outputs": [
    {
     "name": "stdout",
     "output_type": "stream",
     "text": [
      "insert into case_state(id,name,createdon) values            (1,\"新進案\",    \"2022-01-26\");\n",
      "insert into case_state(id,name,createdon) values            (2,\"發案中\",    \"2022-01-26\");\n",
      "insert into case_state(id,name,createdon) values            (3,\"製作中\",    \"2022-01-26\");\n",
      "insert into case_state(id,name,createdon) values            (4,\"已結案\",    \"2022-01-26\");\n",
      "write done!\n"
     ]
    }
   ],
   "source": [
    "try:\n",
    "    conn = sqlite3.connect(db_path)\n",
    "    cursor = conn.cursor()\n",
    "    conn, cursor\n",
    "\n",
    "    for i, state in enumerate(states):\n",
    "        sqlstr = f'insert into case_state(id,name,createdon) values\\\n",
    "            ({i+1},\"{state}\",\\\n",
    "    \"{datetime.today().strftime(\"%Y-%m-%d\")}\");'\n",
    "        print(sqlstr)\n",
    "        cursor.execute(sqlstr)\n",
    "    conn.commit()\n",
    "    print('write done!')\n",
    "except Exception as e:\n",
    "    print(e)\n",
    "finally:\n",
    "    if conn:\n",
    "        conn.close()\n"
   ]
  },
  {
   "cell_type": "code",
   "execution_count": 30,
   "metadata": {},
   "outputs": [
    {
     "data": {
      "text/plain": [
       "['公司行號', '工作室', '學生身分', '上班族兼職']"
      ]
     },
     "execution_count": 30,
     "metadata": {},
     "output_type": "execute_result"
    }
   ],
   "source": [
    "modes = ['公司行號', '工作室', '學生身分', '上班族兼職']\n",
    "modes\n"
   ]
  },
  {
   "cell_type": "code",
   "execution_count": 31,
   "metadata": {},
   "outputs": [
    {
     "name": "stdout",
     "output_type": "stream",
     "text": [
      "insert into case_mode(id,name,createdon) values            (1,\"公司行號\",    \"2022-01-26\");\n",
      "insert into case_mode(id,name,createdon) values            (2,\"工作室\",    \"2022-01-26\");\n",
      "insert into case_mode(id,name,createdon) values            (3,\"學生身分\",    \"2022-01-26\");\n",
      "insert into case_mode(id,name,createdon) values            (4,\"上班族兼職\",    \"2022-01-26\");\n",
      "write done!\n"
     ]
    }
   ],
   "source": [
    "try:\n",
    "    conn = sqlite3.connect(db_path)\n",
    "    cursor = conn.cursor()\n",
    "    conn, cursor\n",
    "\n",
    "    for i, mode in enumerate(modes):\n",
    "        sqlstr = f'insert into case_mode(id,name,createdon) values\\\n",
    "            ({i+1},\"{mode}\",\\\n",
    "    \"{datetime.today().strftime(\"%Y-%m-%d\")}\");'\n",
    "        print(sqlstr)\n",
    "        cursor.execute(sqlstr)\n",
    "    conn.commit()\n",
    "    print('write done!')\n",
    "except Exception as e:\n",
    "    print(e)\n",
    "finally:\n",
    "    if conn:\n",
    "        conn.close()\n"
   ]
  },
  {
   "cell_type": "markdown",
   "metadata": {},
   "source": [
    "### 金額"
   ]
  },
  {
   "cell_type": "code",
   "execution_count": 22,
   "metadata": {},
   "outputs": [
    {
     "data": {
      "text/plain": [
       "['3000',\n",
       " '5000',\n",
       " '10000~30000',\n",
       " '50000',\n",
       " '10萬',\n",
       " '30萬',\n",
       " '50萬~100萬',\n",
       " '100萬以上',\n",
       " '面議']"
      ]
     },
     "execution_count": 22,
     "metadata": {},
     "output_type": "execute_result"
    }
   ],
   "source": [
    "amounts = ['3000','5000','10000~30000','50000','10萬','30萬','50萬~100萬','100萬以上','面議']\n",
    "amounts"
   ]
  },
  {
   "cell_type": "code",
   "execution_count": 23,
   "metadata": {},
   "outputs": [
    {
     "name": "stdout",
     "output_type": "stream",
     "text": [
      "insert into case_amount(id,name,createdon) values            (1,\"3000\",    \"2022-01-26\");\n",
      "insert into case_amount(id,name,createdon) values            (2,\"5000\",    \"2022-01-26\");\n",
      "insert into case_amount(id,name,createdon) values            (3,\"10000~30000\",    \"2022-01-26\");\n",
      "insert into case_amount(id,name,createdon) values            (4,\"50000\",    \"2022-01-26\");\n",
      "insert into case_amount(id,name,createdon) values            (5,\"10萬\",    \"2022-01-26\");\n",
      "insert into case_amount(id,name,createdon) values            (6,\"30萬\",    \"2022-01-26\");\n",
      "insert into case_amount(id,name,createdon) values            (7,\"50萬~100萬\",    \"2022-01-26\");\n",
      "insert into case_amount(id,name,createdon) values            (8,\"100萬以上\",    \"2022-01-26\");\n",
      "insert into case_amount(id,name,createdon) values            (9,\"面議\",    \"2022-01-26\");\n",
      "write done!\n"
     ]
    }
   ],
   "source": [
    "try:\n",
    "    conn = sqlite3.connect(db_path)\n",
    "    cursor = conn.cursor()\n",
    "    conn, cursor\n",
    "\n",
    "    for i, amount in enumerate(amounts):\n",
    "        sqlstr = f'insert into case_amount(id,name,createdon) values\\\n",
    "            ({i+1},\"{amount}\",\\\n",
    "    \"{datetime.today().strftime(\"%Y-%m-%d\")}\");'\n",
    "        print(sqlstr)\n",
    "        cursor.execute(sqlstr)\n",
    "    conn.commit()\n",
    "    print('write done!')\n",
    "except Exception as e:\n",
    "    print(e)\n",
    "finally:\n",
    "    if conn:\n",
    "        conn.close()\n"
   ]
  },
  {
   "cell_type": "code",
   "execution_count": 24,
   "metadata": {},
   "outputs": [
    {
     "data": {
      "text/plain": [
       "['3天內', '一個禮拜', '二~四個禮拜', '一個月內', '三個月', '半年', '一年以上', '面議']"
      ]
     },
     "execution_count": 24,
     "metadata": {},
     "output_type": "execute_result"
    }
   ],
   "source": [
    "periods=['3天內','一個禮拜','二~四個禮拜','一個月內','三個月','半年','一年以上','面議']\n",
    "periods"
   ]
  },
  {
   "cell_type": "code",
   "execution_count": 25,
   "metadata": {},
   "outputs": [
    {
     "name": "stdout",
     "output_type": "stream",
     "text": [
      "insert into case_period(id,name,createdon) values            (1,\"3天內\",    \"2022-01-26\");\n",
      "insert into case_period(id,name,createdon) values            (2,\"一個禮拜\",    \"2022-01-26\");\n",
      "insert into case_period(id,name,createdon) values            (3,\"二~四個禮拜\",    \"2022-01-26\");\n",
      "insert into case_period(id,name,createdon) values            (4,\"一個月內\",    \"2022-01-26\");\n",
      "insert into case_period(id,name,createdon) values            (5,\"三個月\",    \"2022-01-26\");\n",
      "insert into case_period(id,name,createdon) values            (6,\"半年\",    \"2022-01-26\");\n",
      "insert into case_period(id,name,createdon) values            (7,\"一年以上\",    \"2022-01-26\");\n",
      "insert into case_period(id,name,createdon) values            (8,\"面議\",    \"2022-01-26\");\n",
      "write done!\n"
     ]
    }
   ],
   "source": [
    "try:\n",
    "    conn = sqlite3.connect(db_path)\n",
    "    cursor = conn.cursor()\n",
    "    conn, cursor\n",
    "\n",
    "    for i, period in enumerate(periods):\n",
    "        sqlstr = f'insert into case_period(id,name,createdon) values\\\n",
    "            ({i+1},\"{period}\",\\\n",
    "    \"{datetime.today().strftime(\"%Y-%m-%d\")}\");'\n",
    "        print(sqlstr)\n",
    "        cursor.execute(sqlstr)\n",
    "    conn.commit()\n",
    "    print('write done!')\n",
    "except Exception as e:\n",
    "    print(e)\n",
    "finally:\n",
    "    if conn:\n",
    "        conn.close()\n"
   ]
  },
  {
   "cell_type": "markdown",
   "metadata": {},
   "source": []
  }
 ],
 "metadata": {
  "interpreter": {
   "hash": "b3ba2566441a7c06988d0923437866b63cedc61552a5af99d1f4fb67d367b25f"
  },
  "kernelspec": {
   "display_name": "Python 3.8.8 64-bit ('base': conda)",
   "language": "python",
   "name": "python3"
  },
  "language_info": {
   "codemirror_mode": {
    "name": "ipython",
    "version": 3
   },
   "file_extension": ".py",
   "mimetype": "text/x-python",
   "name": "python",
   "nbconvert_exporter": "python",
   "pygments_lexer": "ipython3",
   "version": "3.9.7"
  },
  "orig_nbformat": 4
 },
 "nbformat": 4,
 "nbformat_minor": 2
}
