{
 "cells": [
  {
   "cell_type": "code",
   "execution_count": 15,
   "metadata": {},
   "outputs": [],
   "source": [
    "import sqlite3\n",
    "from datetime import datetime"
   ]
  },
  {
   "cell_type": "code",
   "execution_count": 7,
   "metadata": {},
   "outputs": [
    {
     "data": {
      "text/plain": [
       "<sqlite3.Connection at 0x235c42175d0>"
      ]
     },
     "execution_count": 7,
     "metadata": {},
     "output_type": "execute_result"
    }
   ],
   "source": [
    "conn=sqlite3.connect('../db.sqlite3')\n",
    "conn"
   ]
  },
  {
   "cell_type": "code",
   "execution_count": 8,
   "metadata": {},
   "outputs": [
    {
     "data": {
      "text/plain": [
       "<sqlite3.Cursor at 0x235c4d1f0a0>"
      ]
     },
     "execution_count": 8,
     "metadata": {},
     "output_type": "execute_result"
    }
   ],
   "source": [
    "cursor=conn.cursor()\n",
    "cursor"
   ]
  },
  {
   "cell_type": "code",
   "execution_count": 9,
   "metadata": {},
   "outputs": [
    {
     "data": {
      "text/plain": [
       "[(1, '新北市', '2022-01-26')]"
      ]
     },
     "execution_count": 9,
     "metadata": {},
     "output_type": "execute_result"
    }
   ],
   "source": [
    "list(cursor.execute('select * from user_city'))"
   ]
  },
  {
   "cell_type": "code",
   "execution_count": 20,
   "metadata": {},
   "outputs": [],
   "source": [
    "conn.close()"
   ]
  },
  {
   "cell_type": "markdown",
   "metadata": {},
   "source": [
    "### 寫入城市"
   ]
  },
  {
   "cell_type": "code",
   "execution_count": 11,
   "metadata": {},
   "outputs": [],
   "source": [
    "citys=[(1, '基隆市'),\n",
    " (2, '台北市'),\n",
    " (3, '新北市'),\n",
    " (4, '桃園縣'),\n",
    " (5, '新竹市'),\n",
    " (6, '新竹縣'),\n",
    " (7, '苗栗縣'),\n",
    " (8, '台中市'),\n",
    " (9, '彰化縣'),\n",
    " (10, '南投縣'),\n",
    " (11, '雲林縣'),\n",
    " (12, '嘉義市'),\n",
    " (13, '嘉義縣'),\n",
    " (14, '台南市'),\n",
    " (15, '高雄市'),\n",
    " (16, '屏東縣'),\n",
    " (17, '台東縣'),\n",
    " (18, '花蓮縣'),\n",
    " (19, '宜蘭縣'),\n",
    " (20, '澎湖縣'),\n",
    " (21, '金門縣'),\n",
    " (22, '連江縣')]\n"
   ]
  },
  {
   "cell_type": "code",
   "execution_count": 21,
   "metadata": {},
   "outputs": [
    {
     "data": {
      "text/plain": [
       "(<sqlite3.Connection at 0x235c4e82030>, <sqlite3.Cursor at 0x235c4efc5e0>)"
      ]
     },
     "execution_count": 21,
     "metadata": {},
     "output_type": "execute_result"
    }
   ],
   "source": [
    "conn=sqlite3.connect('../db.sqlite3')\n",
    "cursor=conn.cursor()\n",
    "\n",
    "conn,cursor"
   ]
  },
  {
   "cell_type": "code",
   "execution_count": 17,
   "metadata": {},
   "outputs": [
    {
     "data": {
      "text/plain": [
       "'2022-01-26'"
      ]
     },
     "execution_count": 17,
     "metadata": {},
     "output_type": "execute_result"
    }
   ],
   "source": [
    "today=datetime.today().strftime('%Y-%m-%d')\n",
    "today"
   ]
  },
  {
   "cell_type": "code",
   "execution_count": 24,
   "metadata": {},
   "outputs": [],
   "source": [
    "try:\n",
    "    for city in citys:    \n",
    "        sqlstr=f'insert into user_city (id,name,createdon) values ({city[0]},\"{city[1]}\",\"{today}\")'\n",
    "        cursor.execute(sqlstr)  \n",
    "    conn.commit()\n",
    "except:\n",
    "    pass\n"
   ]
  },
  {
   "cell_type": "code",
   "execution_count": 25,
   "metadata": {},
   "outputs": [],
   "source": [
    "respondents=['公司行號', '工作室', '學生身分', '上班族兼職']"
   ]
  },
  {
   "cell_type": "code",
   "execution_count": 26,
   "metadata": {},
   "outputs": [],
   "source": [
    "try:\n",
    "    for respondent in respondents:    \n",
    "        sqlstr=f'insert into user_respondent (name,createdon) values (\"{respondent}\",\"{today}\")'\n",
    "        cursor.execute(sqlstr)  \n",
    "    conn.commit()\n",
    "    print('done!')\n",
    "except:\n",
    "    pass\n",
    "    "
   ]
  },
  {
   "cell_type": "code",
   "execution_count": null,
   "metadata": {},
   "outputs": [],
   "source": []
  }
 ],
 "metadata": {
  "interpreter": {
   "hash": "b3ba2566441a7c06988d0923437866b63cedc61552a5af99d1f4fb67d367b25f"
  },
  "kernelspec": {
   "display_name": "Python 3.8.8 64-bit ('base': conda)",
   "language": "python",
   "name": "python3"
  },
  "language_info": {
   "codemirror_mode": {
    "name": "ipython",
    "version": 3
   },
   "file_extension": ".py",
   "mimetype": "text/x-python",
   "name": "python",
   "nbconvert_exporter": "python",
   "pygments_lexer": "ipython3",
   "version": "3.8.8"
  },
  "orig_nbformat": 4
 },
 "nbformat": 4,
 "nbformat_minor": 2
}
